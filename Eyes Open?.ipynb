{
 "cells": [
  {
   "cell_type": "code",
   "execution_count": 1,
   "metadata": {
    "collapsed": true
   },
   "outputs": [],
   "source": [
    "import numpy as np\n",
    "import pandas as pd\n",
    "import matplotlib.pyplot as plt\n",
    "import seaborn as sns\n",
    "%matplotlib inline"
   ]
  },
  {
   "cell_type": "code",
   "execution_count": 2,
   "metadata": {
    "collapsed": true
   },
   "outputs": [],
   "source": [
    "df = pd.read_csv('eeg_readings.csv')"
   ]
  },
  {
   "cell_type": "code",
   "execution_count": 3,
   "metadata": {},
   "outputs": [
    {
     "data": {
      "text/html": [
       "<div>\n",
       "<style>\n",
       "    .dataframe thead tr:only-child th {\n",
       "        text-align: right;\n",
       "    }\n",
       "\n",
       "    .dataframe thead th {\n",
       "        text-align: left;\n",
       "    }\n",
       "\n",
       "    .dataframe tbody tr th {\n",
       "        vertical-align: top;\n",
       "    }\n",
       "</style>\n",
       "<table border=\"1\" class=\"dataframe\">\n",
       "  <thead>\n",
       "    <tr style=\"text-align: right;\">\n",
       "      <th></th>\n",
       "      <th>AF3</th>\n",
       "      <th>F7</th>\n",
       "      <th>F3</th>\n",
       "      <th>FC5</th>\n",
       "      <th>T7</th>\n",
       "      <th>P7</th>\n",
       "      <th>O1</th>\n",
       "      <th>O2</th>\n",
       "      <th>P8</th>\n",
       "      <th>T8</th>\n",
       "      <th>FC6</th>\n",
       "      <th>F4</th>\n",
       "      <th>F8</th>\n",
       "      <th>AF4</th>\n",
       "      <th>y</th>\n",
       "    </tr>\n",
       "  </thead>\n",
       "  <tbody>\n",
       "    <tr>\n",
       "      <th>0</th>\n",
       "      <td>4329.23</td>\n",
       "      <td>4009.23</td>\n",
       "      <td>4289.23</td>\n",
       "      <td>4148.21</td>\n",
       "      <td>4350.26</td>\n",
       "      <td>4586.15</td>\n",
       "      <td>4096.92</td>\n",
       "      <td>4641.03</td>\n",
       "      <td>4222.05</td>\n",
       "      <td>4238.46</td>\n",
       "      <td>4211.28</td>\n",
       "      <td>4280.51</td>\n",
       "      <td>4635.90</td>\n",
       "      <td>4393.85</td>\n",
       "      <td>0</td>\n",
       "    </tr>\n",
       "    <tr>\n",
       "      <th>1</th>\n",
       "      <td>4324.62</td>\n",
       "      <td>4004.62</td>\n",
       "      <td>4293.85</td>\n",
       "      <td>4148.72</td>\n",
       "      <td>4342.05</td>\n",
       "      <td>4586.67</td>\n",
       "      <td>4097.44</td>\n",
       "      <td>4638.97</td>\n",
       "      <td>4210.77</td>\n",
       "      <td>4226.67</td>\n",
       "      <td>4207.69</td>\n",
       "      <td>4279.49</td>\n",
       "      <td>4632.82</td>\n",
       "      <td>4384.10</td>\n",
       "      <td>0</td>\n",
       "    </tr>\n",
       "    <tr>\n",
       "      <th>2</th>\n",
       "      <td>4327.69</td>\n",
       "      <td>4006.67</td>\n",
       "      <td>4295.38</td>\n",
       "      <td>4156.41</td>\n",
       "      <td>4336.92</td>\n",
       "      <td>4583.59</td>\n",
       "      <td>4096.92</td>\n",
       "      <td>4630.26</td>\n",
       "      <td>4207.69</td>\n",
       "      <td>4222.05</td>\n",
       "      <td>4206.67</td>\n",
       "      <td>4282.05</td>\n",
       "      <td>4628.72</td>\n",
       "      <td>4389.23</td>\n",
       "      <td>0</td>\n",
       "    </tr>\n",
       "    <tr>\n",
       "      <th>3</th>\n",
       "      <td>4328.72</td>\n",
       "      <td>4011.79</td>\n",
       "      <td>4296.41</td>\n",
       "      <td>4155.90</td>\n",
       "      <td>4343.59</td>\n",
       "      <td>4582.56</td>\n",
       "      <td>4097.44</td>\n",
       "      <td>4630.77</td>\n",
       "      <td>4217.44</td>\n",
       "      <td>4235.38</td>\n",
       "      <td>4210.77</td>\n",
       "      <td>4287.69</td>\n",
       "      <td>4632.31</td>\n",
       "      <td>4396.41</td>\n",
       "      <td>0</td>\n",
       "    </tr>\n",
       "    <tr>\n",
       "      <th>4</th>\n",
       "      <td>4326.15</td>\n",
       "      <td>4011.79</td>\n",
       "      <td>4292.31</td>\n",
       "      <td>4151.28</td>\n",
       "      <td>4347.69</td>\n",
       "      <td>4586.67</td>\n",
       "      <td>4095.90</td>\n",
       "      <td>4627.69</td>\n",
       "      <td>4210.77</td>\n",
       "      <td>4244.10</td>\n",
       "      <td>4212.82</td>\n",
       "      <td>4288.21</td>\n",
       "      <td>4632.82</td>\n",
       "      <td>4398.46</td>\n",
       "      <td>0</td>\n",
       "    </tr>\n",
       "  </tbody>\n",
       "</table>\n",
       "</div>"
      ],
      "text/plain": [
       "       AF3       F7       F3      FC5       T7       P7       O1       O2  \\\n",
       "0  4329.23  4009.23  4289.23  4148.21  4350.26  4586.15  4096.92  4641.03   \n",
       "1  4324.62  4004.62  4293.85  4148.72  4342.05  4586.67  4097.44  4638.97   \n",
       "2  4327.69  4006.67  4295.38  4156.41  4336.92  4583.59  4096.92  4630.26   \n",
       "3  4328.72  4011.79  4296.41  4155.90  4343.59  4582.56  4097.44  4630.77   \n",
       "4  4326.15  4011.79  4292.31  4151.28  4347.69  4586.67  4095.90  4627.69   \n",
       "\n",
       "        P8       T8      FC6       F4       F8      AF4  y  \n",
       "0  4222.05  4238.46  4211.28  4280.51  4635.90  4393.85  0  \n",
       "1  4210.77  4226.67  4207.69  4279.49  4632.82  4384.10  0  \n",
       "2  4207.69  4222.05  4206.67  4282.05  4628.72  4389.23  0  \n",
       "3  4217.44  4235.38  4210.77  4287.69  4632.31  4396.41  0  \n",
       "4  4210.77  4244.10  4212.82  4288.21  4632.82  4398.46  0  "
      ]
     },
     "execution_count": 3,
     "metadata": {},
     "output_type": "execute_result"
    }
   ],
   "source": [
    "df.head()"
   ]
  },
  {
   "cell_type": "code",
   "execution_count": 4,
   "metadata": {
    "collapsed": true
   },
   "outputs": [],
   "source": [
    "import sklearn"
   ]
  },
  {
   "cell_type": "code",
   "execution_count": 5,
   "metadata": {},
   "outputs": [],
   "source": [
    "from sklearn.model_selection import train_test_split"
   ]
  },
  {
   "cell_type": "code",
   "execution_count": 6,
   "metadata": {
    "collapsed": true
   },
   "outputs": [],
   "source": [
    "X_train, X_test, y_train, y_test = train_test_split(df.drop('y',axis=1),df['y'], test_size=0.33, random_state=101)"
   ]
  },
  {
   "cell_type": "code",
   "execution_count": 7,
   "metadata": {
    "collapsed": true
   },
   "outputs": [],
   "source": [
    "from sklearn.svm import LinearSVC"
   ]
  },
  {
   "cell_type": "code",
   "execution_count": 9,
   "metadata": {},
   "outputs": [],
   "source": [
    "clf = LinearSVC()"
   ]
  },
  {
   "cell_type": "code",
   "execution_count": 10,
   "metadata": {},
   "outputs": [
    {
     "data": {
      "text/plain": [
       "LinearSVC(C=1.0, class_weight=None, dual=True, fit_intercept=True,\n",
       "     intercept_scaling=1, loss='squared_hinge', max_iter=1000,\n",
       "     multi_class='ovr', penalty='l2', random_state=None, tol=0.0001,\n",
       "     verbose=0)"
      ]
     },
     "execution_count": 10,
     "metadata": {},
     "output_type": "execute_result"
    }
   ],
   "source": [
    "clf.fit(X_train,y_train)"
   ]
  },
  {
   "cell_type": "code",
   "execution_count": 11,
   "metadata": {},
   "outputs": [],
   "source": [
    "predictions = clf.predict(X_test)"
   ]
  },
  {
   "cell_type": "code",
   "execution_count": 12,
   "metadata": {
    "collapsed": true
   },
   "outputs": [],
   "source": [
    "from sklearn.metrics import classification_report, confusion_matrix"
   ]
  },
  {
   "cell_type": "code",
   "execution_count": 13,
   "metadata": {},
   "outputs": [
    {
     "name": "stdout",
     "output_type": "stream",
     "text": [
      "[[2729    0]\n",
      " [2198   17]]\n"
     ]
    }
   ],
   "source": [
    "print(confusion_matrix(y_test,predictions))"
   ]
  },
  {
   "cell_type": "code",
   "execution_count": 17,
   "metadata": {},
   "outputs": [
    {
     "name": "stdout",
     "output_type": "stream",
     "text": [
      "             precision    recall  f1-score   support\n",
      "\n",
      "          0       0.54      1.00      0.70      2642\n",
      "          1       0.91      0.01      0.02      2302\n",
      "\n",
      "avg / total       0.71      0.54      0.38      4944\n",
      "\n"
     ]
    }
   ],
   "source": [
    "print(classification_report(y_test,predictions))"
   ]
  },
  {
   "cell_type": "code",
   "execution_count": 16,
   "metadata": {
    "collapsed": true
   },
   "outputs": [],
   "source": [
    "from sklearn.neighbors import KNeighborsClassifier\n",
    "from sklearn.preprocessing import StandardScaler"
   ]
  },
  {
   "cell_type": "code",
   "execution_count": 17,
   "metadata": {
    "collapsed": true
   },
   "outputs": [],
   "source": [
    "scalar=StandardScaler()"
   ]
  },
  {
   "cell_type": "code",
   "execution_count": 20,
   "metadata": {},
   "outputs": [
    {
     "data": {
      "text/plain": [
       "StandardScaler(copy=True, with_mean=True, with_std=True)"
      ]
     },
     "execution_count": 20,
     "metadata": {},
     "output_type": "execute_result"
    }
   ],
   "source": [
    "scalar.fit(df.drop('y',axis=1))"
   ]
  },
  {
   "cell_type": "code",
   "execution_count": 21,
   "metadata": {
    "collapsed": true
   },
   "outputs": [],
   "source": [
    "scaled_features = scalar.transform(df.drop('y',axis=1))"
   ]
  },
  {
   "cell_type": "code",
   "execution_count": 24,
   "metadata": {},
   "outputs": [],
   "source": [
    "df_scaled=pd.DataFrame(scaled_features, columns=df.columns[:-1])"
   ]
  },
  {
   "cell_type": "code",
   "execution_count": 25,
   "metadata": {},
   "outputs": [
    {
     "data": {
      "text/html": [
       "<div>\n",
       "<style>\n",
       "    .dataframe thead tr:only-child th {\n",
       "        text-align: right;\n",
       "    }\n",
       "\n",
       "    .dataframe thead th {\n",
       "        text-align: left;\n",
       "    }\n",
       "\n",
       "    .dataframe tbody tr th {\n",
       "        vertical-align: top;\n",
       "    }\n",
       "</style>\n",
       "<table border=\"1\" class=\"dataframe\">\n",
       "  <thead>\n",
       "    <tr style=\"text-align: right;\">\n",
       "      <th></th>\n",
       "      <th>AF3</th>\n",
       "      <th>F7</th>\n",
       "      <th>F3</th>\n",
       "      <th>FC5</th>\n",
       "      <th>T7</th>\n",
       "      <th>P7</th>\n",
       "      <th>O1</th>\n",
       "      <th>O2</th>\n",
       "      <th>P8</th>\n",
       "      <th>T8</th>\n",
       "      <th>FC6</th>\n",
       "      <th>F4</th>\n",
       "      <th>F8</th>\n",
       "      <th>AF4</th>\n",
       "    </tr>\n",
       "  </thead>\n",
       "  <tbody>\n",
       "    <tr>\n",
       "      <th>0</th>\n",
       "      <td>0.002934</td>\n",
       "      <td>-0.011704</td>\n",
       "      <td>0.567398</td>\n",
       "      <td>-0.003209</td>\n",
       "      <td>0.245236</td>\n",
       "      <td>-0.019788</td>\n",
       "      <td>-0.002930</td>\n",
       "      <td>0.852568</td>\n",
       "      <td>0.001509</td>\n",
       "      <td>0.187750</td>\n",
       "      <td>0.233510</td>\n",
       "      <td>0.030745</td>\n",
       "      <td>0.017127</td>\n",
       "      <td>-0.003834</td>\n",
       "    </tr>\n",
       "    <tr>\n",
       "      <th>1</th>\n",
       "      <td>0.001084</td>\n",
       "      <td>-0.112052</td>\n",
       "      <td>0.671390</td>\n",
       "      <td>-0.003111</td>\n",
       "      <td>0.008893</td>\n",
       "      <td>-0.019610</td>\n",
       "      <td>-0.002817</td>\n",
       "      <td>0.782241</td>\n",
       "      <td>-0.003771</td>\n",
       "      <td>-0.122109</td>\n",
       "      <td>0.138498</td>\n",
       "      <td>0.006192</td>\n",
       "      <td>0.014578</td>\n",
       "      <td>-0.005489</td>\n",
       "    </tr>\n",
       "    <tr>\n",
       "      <th>2</th>\n",
       "      <td>0.002316</td>\n",
       "      <td>-0.067429</td>\n",
       "      <td>0.705829</td>\n",
       "      <td>-0.001636</td>\n",
       "      <td>-0.138785</td>\n",
       "      <td>-0.020663</td>\n",
       "      <td>-0.002930</td>\n",
       "      <td>0.484886</td>\n",
       "      <td>-0.005213</td>\n",
       "      <td>-0.243529</td>\n",
       "      <td>0.111503</td>\n",
       "      <td>0.067815</td>\n",
       "      <td>0.011185</td>\n",
       "      <td>-0.004618</td>\n",
       "    </tr>\n",
       "    <tr>\n",
       "      <th>3</th>\n",
       "      <td>0.002730</td>\n",
       "      <td>0.044020</td>\n",
       "      <td>0.729013</td>\n",
       "      <td>-0.001734</td>\n",
       "      <td>0.053225</td>\n",
       "      <td>-0.021015</td>\n",
       "      <td>-0.002817</td>\n",
       "      <td>0.502297</td>\n",
       "      <td>-0.000649</td>\n",
       "      <td>0.106803</td>\n",
       "      <td>0.220012</td>\n",
       "      <td>0.203578</td>\n",
       "      <td>0.014156</td>\n",
       "      <td>-0.003399</td>\n",
       "    </tr>\n",
       "    <tr>\n",
       "      <th>4</th>\n",
       "      <td>0.001698</td>\n",
       "      <td>0.044020</td>\n",
       "      <td>0.636726</td>\n",
       "      <td>-0.002620</td>\n",
       "      <td>0.171253</td>\n",
       "      <td>-0.019610</td>\n",
       "      <td>-0.003152</td>\n",
       "      <td>0.397148</td>\n",
       "      <td>-0.003771</td>\n",
       "      <td>0.335977</td>\n",
       "      <td>0.274267</td>\n",
       "      <td>0.216095</td>\n",
       "      <td>0.014578</td>\n",
       "      <td>-0.003051</td>\n",
       "    </tr>\n",
       "  </tbody>\n",
       "</table>\n",
       "</div>"
      ],
      "text/plain": [
       "        AF3        F7        F3       FC5        T7        P7        O1  \\\n",
       "0  0.002934 -0.011704  0.567398 -0.003209  0.245236 -0.019788 -0.002930   \n",
       "1  0.001084 -0.112052  0.671390 -0.003111  0.008893 -0.019610 -0.002817   \n",
       "2  0.002316 -0.067429  0.705829 -0.001636 -0.138785 -0.020663 -0.002930   \n",
       "3  0.002730  0.044020  0.729013 -0.001734  0.053225 -0.021015 -0.002817   \n",
       "4  0.001698  0.044020  0.636726 -0.002620  0.171253 -0.019610 -0.003152   \n",
       "\n",
       "         O2        P8        T8       FC6        F4        F8       AF4  \n",
       "0  0.852568  0.001509  0.187750  0.233510  0.030745  0.017127 -0.003834  \n",
       "1  0.782241 -0.003771 -0.122109  0.138498  0.006192  0.014578 -0.005489  \n",
       "2  0.484886 -0.005213 -0.243529  0.111503  0.067815  0.011185 -0.004618  \n",
       "3  0.502297 -0.000649  0.106803  0.220012  0.203578  0.014156 -0.003399  \n",
       "4  0.397148 -0.003771  0.335977  0.274267  0.216095  0.014578 -0.003051  "
      ]
     },
     "execution_count": 25,
     "metadata": {},
     "output_type": "execute_result"
    }
   ],
   "source": [
    "df_scaled.head()"
   ]
  },
  {
   "cell_type": "code",
   "execution_count": 27,
   "metadata": {
    "collapsed": true
   },
   "outputs": [],
   "source": [
    "clfK=KNeighborsClassifier(n_neighbors=1)"
   ]
  },
  {
   "cell_type": "code",
   "execution_count": 28,
   "metadata": {},
   "outputs": [
    {
     "data": {
      "text/plain": [
       "KNeighborsClassifier(algorithm='auto', leaf_size=30, metric='minkowski',\n",
       "           metric_params=None, n_jobs=1, n_neighbors=1, p=2,\n",
       "           weights='uniform')"
      ]
     },
     "execution_count": 28,
     "metadata": {},
     "output_type": "execute_result"
    }
   ],
   "source": [
    "clfK.fit(X_train,y_train)"
   ]
  },
  {
   "cell_type": "code",
   "execution_count": 29,
   "metadata": {
    "collapsed": true
   },
   "outputs": [],
   "source": [
    "clfKPred =clf.predict(X_test)"
   ]
  },
  {
   "cell_type": "code",
   "execution_count": 30,
   "metadata": {},
   "outputs": [
    {
     "name": "stdout",
     "output_type": "stream",
     "text": [
      "[[2729    0]\n",
      " [2198   17]]\n"
     ]
    }
   ],
   "source": [
    "print(confusion_matrix(y_test,clfKPred))"
   ]
  },
  {
   "cell_type": "code",
   "execution_count": 31,
   "metadata": {},
   "outputs": [
    {
     "name": "stdout",
     "output_type": "stream",
     "text": [
      "             precision    recall  f1-score   support\n",
      "\n",
      "          0       0.55      1.00      0.71      2729\n",
      "          1       1.00      0.01      0.02      2215\n",
      "\n",
      "avg / total       0.75      0.56      0.40      4944\n",
      "\n"
     ]
    }
   ],
   "source": [
    "print(classification_report(y_test,clfKPred))"
   ]
  },
  {
   "cell_type": "code",
   "execution_count": 47,
   "metadata": {},
   "outputs": [
    {
     "data": {
      "text/plain": [
       "0    2728\n",
       "1    2215\n",
       "Name: y, dtype: int64"
      ]
     },
     "execution_count": 47,
     "metadata": {},
     "output_type": "execute_result"
    }
   ],
   "source": [
    "y_test.iloc[1:].value_counts()"
   ]
  },
  {
   "cell_type": "code",
   "execution_count": 68,
   "metadata": {},
   "outputs": [],
   "source": [
    "from sklearn.decomposition import PCA"
   ]
  },
  {
   "cell_type": "code",
   "execution_count": 91,
   "metadata": {},
   "outputs": [],
   "source": [
    "pca = PCA(n_components=3)"
   ]
  },
  {
   "cell_type": "code",
   "execution_count": 92,
   "metadata": {},
   "outputs": [
    {
     "data": {
      "text/plain": [
       "PCA(copy=True, iterated_power='auto', n_components=3, random_state=None,\n",
       "  svd_solver='auto', tol=0.0, whiten=False)"
      ]
     },
     "execution_count": 92,
     "metadata": {},
     "output_type": "execute_result"
    }
   ],
   "source": [
    "pca.fit(scaled_features)"
   ]
  },
  {
   "cell_type": "code",
   "execution_count": 93,
   "metadata": {
    "collapsed": true
   },
   "outputs": [],
   "source": [
    "x_pca=pca.transform(scaled_features)"
   ]
  },
  {
   "cell_type": "code",
   "execution_count": 94,
   "metadata": {},
   "outputs": [
    {
     "data": {
      "text/plain": [
       "(14980, 14)"
      ]
     },
     "execution_count": 94,
     "metadata": {},
     "output_type": "execute_result"
    }
   ],
   "source": [
    "scaled_features.shape"
   ]
  },
  {
   "cell_type": "code",
   "execution_count": 95,
   "metadata": {},
   "outputs": [
    {
     "data": {
      "text/plain": [
       "(14980, 3)"
      ]
     },
     "execution_count": 95,
     "metadata": {},
     "output_type": "execute_result"
    }
   ],
   "source": [
    "x_pca.shape"
   ]
  },
  {
   "cell_type": "code",
   "execution_count": 96,
   "metadata": {},
   "outputs": [
    {
     "data": {
      "text/plain": [
       "<matplotlib.text.Text at 0x7fe269db3550>"
      ]
     },
     "execution_count": 96,
     "metadata": {},
     "output_type": "execute_result"
    },
    {
     "data": {
      "image/png": "[encoded data removed]",
      "text/plain": [
       "<matplotlib.figure.Figure at 0x7fe2699315f8>"
      ]
     },
     "metadata": {},
     "output_type": "display_data"
    }
   ],
   "source": [
    "plt.figure(figsize=(8,6))\n",
    "plt.scatter(x_pca[:,0],x_pca[:,1],c=df['y'],cmap='plasma')\n",
    "plt.xlabel('First Principle Component')\n",
    "plt.ylabel('Second Principle Component')"
   ]
  },
  {
   "cell_type": "code",
   "execution_count": 100,
   "metadata": {},
   "outputs": [
    {
     "data": {
      "text/plain": [
       "<matplotlib.text.Text at 0x7fe2681de400>"
      ]
     },
     "execution_count": 100,
     "metadata": {},
     "output_type": "execute_result"
    },
    {
     "data": {
      "image/png": "[encoded data removed]",
      "text/plain": [
       "<matplotlib.figure.Figure at 0x7fe268d41eb8>"
      ]
     },
     "metadata": {},
     "output_type": "display_data"
    }
   ],
   "source": [
    "plt.figure(figsize=(8,6))\n",
    "plt.scatter(x_pca[:,1],x_pca[:,2],c=df['y'],cmap='plasma')\n",
    "plt.xlabel('Second Principle Component')\n",
    "plt.ylabel('Third Principle Component')"
   ]
  },
  {
   "cell_type": "code",
   "execution_count": 99,
   "metadata": {},
   "outputs": [
    {
     "data": {
      "text/plain": [
       "<matplotlib.text.Text at 0x7fe269173550>"
      ]
     },
     "execution_count": 99,
     "metadata": {},
     "output_type": "execute_result"
    },
    {
     "data": {
      "image/png": "[encoded data removed]",
      "text/plain": [
       "<matplotlib.figure.Figure at 0x7fe268d7c048>"
      ]
     },
     "metadata": {},
     "output_type": "display_data"
    }
   ],
   "source": [
    "plt.figure(figsize=(8,6))\n",
    "plt.scatter(x_pca[:,0],x_pca[:,2],c=df['y'],cmap='plasma')\n",
    "plt.xlabel('First Principle Component')\n",
    "plt.ylabel('Second Principle Component')"
   ]
  },
  {
   "cell_type": "code",
   "execution_count": null,
   "metadata": {
    "collapsed": true
   },
   "outputs": [],
   "source": []
  },
  {
   "cell_type": "code",
   "execution_count": null,
   "metadata": {
    "collapsed": true
   },
   "outputs": [],
   "source": []
  },
  {
   "cell_type": "code",
   "execution_count": 101,
   "metadata": {},
   "outputs": [],
   "source": [
    "df_names =df.dtypes.index\n"
   ]
  },
  {
   "cell_type": "code",
   "execution_count": 102,
   "metadata": {},
   "outputs": [
    {
     "data": {
      "text/plain": [
       "Index(['AF3', 'F7', 'F3', 'FC5', 'T7', 'P7', 'O1', 'O2', 'P8', 'T8', 'FC6',\n",
       "       'F4', 'F8', 'AF4', 'y'],\n",
       "      dtype='object')"
      ]
     },
     "execution_count": 102,
     "metadata": {},
     "output_type": "execute_result"
    }
   ],
   "source": [
    "df_names\n"
   ]
  },
  {
   "cell_type": "code",
   "execution_count": 103,
   "metadata": {},
   "outputs": [],
   "source": [
    "df_names1 = df_names[:-1]"
   ]
  },
  {
   "cell_type": "code",
   "execution_count": 104,
   "metadata": {},
   "outputs": [
    {
     "data": {
      "text/plain": [
       "Index(['AF3', 'F7', 'F3', 'FC5', 'T7', 'P7', 'O1', 'O2', 'P8', 'T8', 'FC6',\n",
       "       'F4', 'F8', 'AF4'],\n",
       "      dtype='object')"
      ]
     },
     "execution_count": 104,
     "metadata": {},
     "output_type": "execute_result"
    }
   ],
   "source": [
    "df_names1"
   ]
  },
  {
   "cell_type": "code",
   "execution_count": 105,
   "metadata": {
    "collapsed": true
   },
   "outputs": [],
   "source": [
    "df_comp = pd.DataFrame(pca.components_,columns=df_names1)"
   ]
  },
  {
   "cell_type": "code",
   "execution_count": 106,
   "metadata": {},
   "outputs": [
    {
     "data": {
      "text/html": [
       "<div>\n",
       "<style>\n",
       "    .dataframe thead tr:only-child th {\n",
       "        text-align: right;\n",
       "    }\n",
       "\n",
       "    .dataframe thead th {\n",
       "        text-align: left;\n",
       "    }\n",
       "\n",
       "    .dataframe tbody tr th {\n",
       "        vertical-align: top;\n",
       "    }\n",
       "</style>\n",
       "<table border=\"1\" class=\"dataframe\">\n",
       "  <thead>\n",
       "    <tr style=\"text-align: right;\">\n",
       "      <th></th>\n",
       "      <th>AF3</th>\n",
       "      <th>F7</th>\n",
       "      <th>F3</th>\n",
       "      <th>FC5</th>\n",
       "      <th>T7</th>\n",
       "      <th>P7</th>\n",
       "      <th>O1</th>\n",
       "      <th>O2</th>\n",
       "      <th>P8</th>\n",
       "      <th>T8</th>\n",
       "      <th>FC6</th>\n",
       "      <th>F4</th>\n",
       "      <th>F8</th>\n",
       "      <th>AF4</th>\n",
       "    </tr>\n",
       "  </thead>\n",
       "  <tbody>\n",
       "    <tr>\n",
       "      <th>0</th>\n",
       "      <td>0.453789</td>\n",
       "      <td>0.239255</td>\n",
       "      <td>0.371910</td>\n",
       "      <td>-0.013808</td>\n",
       "      <td>0.067762</td>\n",
       "      <td>-0.116458</td>\n",
       "      <td>-0.016762</td>\n",
       "      <td>0.108782</td>\n",
       "      <td>0.456464</td>\n",
       "      <td>0.023452</td>\n",
       "      <td>0.364103</td>\n",
       "      <td>-0.061746</td>\n",
       "      <td>0.457541</td>\n",
       "      <td>-0.115842</td>\n",
       "    </tr>\n",
       "    <tr>\n",
       "      <th>1</th>\n",
       "      <td>0.089798</td>\n",
       "      <td>-0.181363</td>\n",
       "      <td>-0.265239</td>\n",
       "      <td>0.488877</td>\n",
       "      <td>0.423398</td>\n",
       "      <td>0.191674</td>\n",
       "      <td>0.489190</td>\n",
       "      <td>0.034398</td>\n",
       "      <td>0.085301</td>\n",
       "      <td>-0.232448</td>\n",
       "      <td>0.206714</td>\n",
       "      <td>0.117639</td>\n",
       "      <td>0.076848</td>\n",
       "      <td>0.263462</td>\n",
       "    </tr>\n",
       "    <tr>\n",
       "      <th>2</th>\n",
       "      <td>0.192495</td>\n",
       "      <td>-0.127854</td>\n",
       "      <td>-0.216345</td>\n",
       "      <td>-0.248444</td>\n",
       "      <td>0.171909</td>\n",
       "      <td>0.422429</td>\n",
       "      <td>-0.247955</td>\n",
       "      <td>-0.182683</td>\n",
       "      <td>0.181775</td>\n",
       "      <td>0.105398</td>\n",
       "      <td>-0.228994</td>\n",
       "      <td>-0.511354</td>\n",
       "      <td>0.183127</td>\n",
       "      <td>0.378957</td>\n",
       "    </tr>\n",
       "  </tbody>\n",
       "</table>\n",
       "</div>"
      ],
      "text/plain": [
       "        AF3        F7        F3       FC5        T7        P7        O1  \\\n",
       "0  0.453789  0.239255  0.371910 -0.013808  0.067762 -0.116458 -0.016762   \n",
       "1  0.089798 -0.181363 -0.265239  0.488877  0.423398  0.191674  0.489190   \n",
       "2  0.192495 -0.127854 -0.216345 -0.248444  0.171909  0.422429 -0.247955   \n",
       "\n",
       "         O2        P8        T8       FC6        F4        F8       AF4  \n",
       "0  0.108782  0.456464  0.023452  0.364103 -0.061746  0.457541 -0.115842  \n",
       "1  0.034398  0.085301 -0.232448  0.206714  0.117639  0.076848  0.263462  \n",
       "2 -0.182683  0.181775  0.105398 -0.228994 -0.511354  0.183127  0.378957  "
      ]
     },
     "execution_count": 106,
     "metadata": {},
     "output_type": "execute_result"
    }
   ],
   "source": [
    "df_comp"
   ]
  },
  {
   "cell_type": "code",
   "execution_count": 107,
   "metadata": {},
   "outputs": [
    {
     "data": {
      "text/plain": [
       "<matplotlib.figure.Figure at 0x7fe268cdf860>"
      ]
     },
     "execution_count": 107,
     "metadata": {},
     "output_type": "execute_result"
    },
    {
     "data": {
      "text/plain": [
       "<matplotlib.figure.Figure at 0x7fe268cdf860>"
      ]
     },
     "metadata": {},
     "output_type": "display_data"
    }
   ],
   "source": [
    "plt.figure(figsize=(12,6))"
   ]
  },
  {
   "cell_type": "code",
   "execution_count": 108,
   "metadata": {},
   "outputs": [
    {
     "data": {
      "text/plain": [
       "<matplotlib.axes._subplots.AxesSubplot at 0x7fe268cfcc88>"
      ]
     },
     "execution_count": 108,
     "metadata": {},
     "output_type": "execute_result"
    },
    {
     "data": {
      "image/png": "[encoded data removed]",
      "text/plain": [
       "<matplotlib.figure.Figure at 0x7fe268d4a2e8>"
      ]
     },
     "metadata": {},
     "output_type": "display_data"
    }
   ],
   "source": [
    "sns.heatmap(df_comp,cmap='plasma')"
   ]
  },
  {
   "cell_type": "code",
   "execution_count": null,
   "metadata": {
    "collapsed": true
   },
   "outputs": [],
   "source": [
    "#so looking at this if I did AF3, FC5,T7,P7,P8,FC6,F8, AF4 i might get\n",
    "#better differentiation"
   ]
  },
  {
   "cell_type": "code",
   "execution_count": null,
   "metadata": {
    "collapsed": true
   },
   "outputs": [],
   "source": [
    "#so create a dataframe with just these"
   ]
  },
  {
   "cell_type": "code",
   "execution_count": 110,
   "metadata": {},
   "outputs": [],
   "source": [
    "edited_dataframe= df_scaled.drop(['F7','O2','T8','F4'],axis=1)"
   ]
  },
  {
   "cell_type": "code",
   "execution_count": 111,
   "metadata": {},
   "outputs": [
    {
     "data": {
      "text/html": [
       "<div>\n",
       "<style>\n",
       "    .dataframe thead tr:only-child th {\n",
       "        text-align: right;\n",
       "    }\n",
       "\n",
       "    .dataframe thead th {\n",
       "        text-align: left;\n",
       "    }\n",
       "\n",
       "    .dataframe tbody tr th {\n",
       "        vertical-align: top;\n",
       "    }\n",
       "</style>\n",
       "<table border=\"1\" class=\"dataframe\">\n",
       "  <thead>\n",
       "    <tr style=\"text-align: right;\">\n",
       "      <th></th>\n",
       "      <th>AF3</th>\n",
       "      <th>F3</th>\n",
       "      <th>FC5</th>\n",
       "      <th>T7</th>\n",
       "      <th>P7</th>\n",
       "      <th>O1</th>\n",
       "      <th>P8</th>\n",
       "      <th>FC6</th>\n",
       "      <th>F8</th>\n",
       "      <th>AF4</th>\n",
       "    </tr>\n",
       "  </thead>\n",
       "  <tbody>\n",
       "    <tr>\n",
       "      <th>0</th>\n",
       "      <td>0.002934</td>\n",
       "      <td>0.567398</td>\n",
       "      <td>-0.003209</td>\n",
       "      <td>0.245236</td>\n",
       "      <td>-0.019788</td>\n",
       "      <td>-0.002930</td>\n",
       "      <td>0.001509</td>\n",
       "      <td>0.233510</td>\n",
       "      <td>0.017127</td>\n",
       "      <td>-0.003834</td>\n",
       "    </tr>\n",
       "    <tr>\n",
       "      <th>1</th>\n",
       "      <td>0.001084</td>\n",
       "      <td>0.671390</td>\n",
       "      <td>-0.003111</td>\n",
       "      <td>0.008893</td>\n",
       "      <td>-0.019610</td>\n",
       "      <td>-0.002817</td>\n",
       "      <td>-0.003771</td>\n",
       "      <td>0.138498</td>\n",
       "      <td>0.014578</td>\n",
       "      <td>-0.005489</td>\n",
       "    </tr>\n",
       "    <tr>\n",
       "      <th>2</th>\n",
       "      <td>0.002316</td>\n",
       "      <td>0.705829</td>\n",
       "      <td>-0.001636</td>\n",
       "      <td>-0.138785</td>\n",
       "      <td>-0.020663</td>\n",
       "      <td>-0.002930</td>\n",
       "      <td>-0.005213</td>\n",
       "      <td>0.111503</td>\n",
       "      <td>0.011185</td>\n",
       "      <td>-0.004618</td>\n",
       "    </tr>\n",
       "    <tr>\n",
       "      <th>3</th>\n",
       "      <td>0.002730</td>\n",
       "      <td>0.729013</td>\n",
       "      <td>-0.001734</td>\n",
       "      <td>0.053225</td>\n",
       "      <td>-0.021015</td>\n",
       "      <td>-0.002817</td>\n",
       "      <td>-0.000649</td>\n",
       "      <td>0.220012</td>\n",
       "      <td>0.014156</td>\n",
       "      <td>-0.003399</td>\n",
       "    </tr>\n",
       "    <tr>\n",
       "      <th>4</th>\n",
       "      <td>0.001698</td>\n",
       "      <td>0.636726</td>\n",
       "      <td>-0.002620</td>\n",
       "      <td>0.171253</td>\n",
       "      <td>-0.019610</td>\n",
       "      <td>-0.003152</td>\n",
       "      <td>-0.003771</td>\n",
       "      <td>0.274267</td>\n",
       "      <td>0.014578</td>\n",
       "      <td>-0.003051</td>\n",
       "    </tr>\n",
       "  </tbody>\n",
       "</table>\n",
       "</div>"
      ],
      "text/plain": [
       "        AF3        F3       FC5        T7        P7        O1        P8  \\\n",
       "0  0.002934  0.567398 -0.003209  0.245236 -0.019788 -0.002930  0.001509   \n",
       "1  0.001084  0.671390 -0.003111  0.008893 -0.019610 -0.002817 -0.003771   \n",
       "2  0.002316  0.705829 -0.001636 -0.138785 -0.020663 -0.002930 -0.005213   \n",
       "3  0.002730  0.729013 -0.001734  0.053225 -0.021015 -0.002817 -0.000649   \n",
       "4  0.001698  0.636726 -0.002620  0.171253 -0.019610 -0.003152 -0.003771   \n",
       "\n",
       "        FC6        F8       AF4  \n",
       "0  0.233510  0.017127 -0.003834  \n",
       "1  0.138498  0.014578 -0.005489  \n",
       "2  0.111503  0.011185 -0.004618  \n",
       "3  0.220012  0.014156 -0.003399  \n",
       "4  0.274267  0.014578 -0.003051  "
      ]
     },
     "execution_count": 111,
     "metadata": {},
     "output_type": "execute_result"
    }
   ],
   "source": [
    "edited_dataframe.head()"
   ]
  },
  {
   "cell_type": "code",
   "execution_count": 114,
   "metadata": {},
   "outputs": [
    {
     "data": {
      "text/plain": [
       "AF3    14980\n",
       "F3     14980\n",
       "FC5    14980\n",
       "T7     14980\n",
       "P7     14980\n",
       "O1     14980\n",
       "P8     14980\n",
       "FC6    14980\n",
       "F8     14980\n",
       "AF4    14980\n",
       "dtype: int64"
      ]
     },
     "execution_count": 114,
     "metadata": {},
     "output_type": "execute_result"
    }
   ],
   "source": [
    "edited_dataframe.count()"
   ]
  },
  {
   "cell_type": "code",
   "execution_count": 118,
   "metadata": {
    "collapsed": true
   },
   "outputs": [],
   "source": [
    "clfKbetter=KNeighborsClassifier(n_neighbors=1)"
   ]
  },
  {
   "cell_type": "code",
   "execution_count": 119,
   "metadata": {},
   "outputs": [],
   "source": [
    "X_train1, X_test1, y_train1, y_test1 = train_test_split(edited_dataframe,df['y'], test_size=0.33, random_state=42)"
   ]
  },
  {
   "cell_type": "code",
   "execution_count": 120,
   "metadata": {},
   "outputs": [
    {
     "data": {
      "text/plain": [
       "KNeighborsClassifier(algorithm='auto', leaf_size=30, metric='minkowski',\n",
       "           metric_params=None, n_jobs=1, n_neighbors=1, p=2,\n",
       "           weights='uniform')"
      ]
     },
     "execution_count": 120,
     "metadata": {},
     "output_type": "execute_result"
    }
   ],
   "source": [
    "clfKbetter.fit(X_train1,y_train1)"
   ]
  },
  {
   "cell_type": "code",
   "execution_count": 121,
   "metadata": {
    "collapsed": true
   },
   "outputs": [],
   "source": [
    "Kbpred=clfKbetter.predict(X_test1)"
   ]
  },
  {
   "cell_type": "code",
   "execution_count": 122,
   "metadata": {},
   "outputs": [
    {
     "name": "stdout",
     "output_type": "stream",
     "text": [
      "[[1756  886]\n",
      " [1097 1205]]\n"
     ]
    }
   ],
   "source": [
    "print(confusion_matrix(y_test1,Kbpred))"
   ]
  },
  {
   "cell_type": "code",
   "execution_count": 123,
   "metadata": {},
   "outputs": [
    {
     "name": "stdout",
     "output_type": "stream",
     "text": [
      "             precision    recall  f1-score   support\n",
      "\n",
      "          0       0.62      0.66      0.64      2642\n",
      "          1       0.58      0.52      0.55      2302\n",
      "\n",
      "avg / total       0.60      0.60      0.60      4944\n",
      "\n"
     ]
    }
   ],
   "source": [
    "print(classification_report(y_test1,Kbpred))"
   ]
  },
  {
   "cell_type": "code",
   "execution_count": 124,
   "metadata": {
    "collapsed": true
   },
   "outputs": [],
   "source": [
    "#This is getting better. Still looks like the dominant features not fully identified"
   ]
  },
  {
   "cell_type": "code",
   "execution_count": 126,
   "metadata": {},
   "outputs": [],
   "source": [
    "edited_dataframe2= edited_dataframe= df_scaled.drop(['F7','F3','T7','P7','O2','T8','F4','FC6','AF4'],axis=1)"
   ]
  },
  {
   "cell_type": "code",
   "execution_count": 127,
   "metadata": {},
   "outputs": [
    {
     "data": {
      "text/html": [
       "<div>\n",
       "<style>\n",
       "    .dataframe thead tr:only-child th {\n",
       "        text-align: right;\n",
       "    }\n",
       "\n",
       "    .dataframe thead th {\n",
       "        text-align: left;\n",
       "    }\n",
       "\n",
       "    .dataframe tbody tr th {\n",
       "        vertical-align: top;\n",
       "    }\n",
       "</style>\n",
       "<table border=\"1\" class=\"dataframe\">\n",
       "  <thead>\n",
       "    <tr style=\"text-align: right;\">\n",
       "      <th></th>\n",
       "      <th>AF3</th>\n",
       "      <th>FC5</th>\n",
       "      <th>O1</th>\n",
       "      <th>P8</th>\n",
       "      <th>F8</th>\n",
       "    </tr>\n",
       "  </thead>\n",
       "  <tbody>\n",
       "    <tr>\n",
       "      <th>0</th>\n",
       "      <td>0.002934</td>\n",
       "      <td>-0.003209</td>\n",
       "      <td>-0.002930</td>\n",
       "      <td>0.001509</td>\n",
       "      <td>0.017127</td>\n",
       "    </tr>\n",
       "    <tr>\n",
       "      <th>1</th>\n",
       "      <td>0.001084</td>\n",
       "      <td>-0.003111</td>\n",
       "      <td>-0.002817</td>\n",
       "      <td>-0.003771</td>\n",
       "      <td>0.014578</td>\n",
       "    </tr>\n",
       "    <tr>\n",
       "      <th>2</th>\n",
       "      <td>0.002316</td>\n",
       "      <td>-0.001636</td>\n",
       "      <td>-0.002930</td>\n",
       "      <td>-0.005213</td>\n",
       "      <td>0.011185</td>\n",
       "    </tr>\n",
       "    <tr>\n",
       "      <th>3</th>\n",
       "      <td>0.002730</td>\n",
       "      <td>-0.001734</td>\n",
       "      <td>-0.002817</td>\n",
       "      <td>-0.000649</td>\n",
       "      <td>0.014156</td>\n",
       "    </tr>\n",
       "    <tr>\n",
       "      <th>4</th>\n",
       "      <td>0.001698</td>\n",
       "      <td>-0.002620</td>\n",
       "      <td>-0.003152</td>\n",
       "      <td>-0.003771</td>\n",
       "      <td>0.014578</td>\n",
       "    </tr>\n",
       "  </tbody>\n",
       "</table>\n",
       "</div>"
      ],
      "text/plain": [
       "        AF3       FC5        O1        P8        F8\n",
       "0  0.002934 -0.003209 -0.002930  0.001509  0.017127\n",
       "1  0.001084 -0.003111 -0.002817 -0.003771  0.014578\n",
       "2  0.002316 -0.001636 -0.002930 -0.005213  0.011185\n",
       "3  0.002730 -0.001734 -0.002817 -0.000649  0.014156\n",
       "4  0.001698 -0.002620 -0.003152 -0.003771  0.014578"
      ]
     },
     "execution_count": 127,
     "metadata": {},
     "output_type": "execute_result"
    }
   ],
   "source": [
    "edited_dataframe2.head()"
   ]
  },
  {
   "cell_type": "code",
   "execution_count": 128,
   "metadata": {
    "collapsed": true
   },
   "outputs": [],
   "source": [
    "clfKbetter2=KNeighborsClassifier(n_neighbors=1)"
   ]
  },
  {
   "cell_type": "code",
   "execution_count": 129,
   "metadata": {
    "collapsed": true
   },
   "outputs": [],
   "source": [
    "X_train2, X_test2, y_train2, y_test2 = train_test_split(edited_dataframe2,df['y'], test_size=0.33, random_state=42)"
   ]
  },
  {
   "cell_type": "code",
   "execution_count": 130,
   "metadata": {},
   "outputs": [
    {
     "data": {
      "text/plain": [
       "KNeighborsClassifier(algorithm='auto', leaf_size=30, metric='minkowski',\n",
       "           metric_params=None, n_jobs=1, n_neighbors=1, p=2,\n",
       "           weights='uniform')"
      ]
     },
     "execution_count": 130,
     "metadata": {},
     "output_type": "execute_result"
    }
   ],
   "source": [
    "clfKbetter2.fit(X_train2,y_train2)"
   ]
  },
  {
   "cell_type": "code",
   "execution_count": 131,
   "metadata": {
    "collapsed": true
   },
   "outputs": [],
   "source": [
    "Kbpred2=clfKbetter2.predict(X_test2)"
   ]
  },
  {
   "cell_type": "code",
   "execution_count": 132,
   "metadata": {},
   "outputs": [
    {
     "name": "stdout",
     "output_type": "stream",
     "text": [
      "[[1756  886]\n",
      " [1097 1205]]\n"
     ]
    }
   ],
   "source": [
    "print(confusion_matrix(y_test1,Kbpred))"
   ]
  },
  {
   "cell_type": "code",
   "execution_count": 133,
   "metadata": {},
   "outputs": [
    {
     "name": "stdout",
     "output_type": "stream",
     "text": [
      "[[2057  585]\n",
      " [ 717 1585]]\n"
     ]
    }
   ],
   "source": [
    "print(confusion_matrix(y_test2,Kbpred2))"
   ]
  },
  {
   "cell_type": "code",
   "execution_count": 134,
   "metadata": {},
   "outputs": [
    {
     "name": "stdout",
     "output_type": "stream",
     "text": [
      "             precision    recall  f1-score   support\n",
      "\n",
      "          0       0.74      0.78      0.76      2642\n",
      "          1       0.73      0.69      0.71      2302\n",
      "\n",
      "avg / total       0.74      0.74      0.74      4944\n",
      "\n"
     ]
    }
   ],
   "source": [
    "print(classification_report(y_test2,Kbpred2))                                                                                                                 "
   ]
  },
  {
   "cell_type": "code",
   "execution_count": null,
   "metadata": {
    "collapsed": true
   },
   "outputs": [],
   "source": [
    " "
   ]
  }
 ],
 "metadata": {
  "kernelspec": {
   "display_name": "Python 3",
   "language": "python",
   "name": "python3"
  },
  "language_info": {
   "codemirror_mode": {
    "name": "ipython",
    "version": 3
   },
   "file_extension": ".py",
   "mimetype": "text/x-python",
   "name": "python",
   "nbconvert_exporter": "python",
   "pygments_lexer": "ipython3",
   "version": "3.6.3"
  }
 },
 "nbformat": 4,
 "nbformat_minor": 2
}
